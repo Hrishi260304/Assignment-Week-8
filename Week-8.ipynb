{
 "cells": [
  {
   "cell_type": "markdown",
   "id": "27a9cff3-319c-4d8b-b19a-db704cef1fd8",
   "metadata": {},
   "source": [
    "# RAG Q&A chatbot using document retrieval and generative AI for intelligent response generation (can use any light model from hugging face or a license llm(opneai, claude, grok, gemini) if free credits available"
   ]
  },
  {
   "cell_type": "code",
   "execution_count": null,
   "id": "66b3e9dd-8a6d-43af-9f60-6e05bd714e8d",
   "metadata": {},
   "outputs": [],
   "source": [
    "import pandas as pd\n",
    "df = pd.read_csv(\"Training Dataset.csv\")\n",
    "df = df.dropna()\n",
    "documents = df.astype(str).apply(lambda row: ' | '.join(row), axis=1).tolist()\n",
    "print(\"Sample document:\\n\", documents[0])"
   ]
  },
  {
   "cell_type": "code",
   "execution_count": null,
   "id": "f0ba57bf-b0b5-48a8-a0ae-65b48e1161b8",
   "metadata": {},
   "outputs": [],
   "source": [
    "from sentence_transformers import SentenceTransformer\n",
    "import faiss\n",
    "import numpy as np\n",
    "embedder = SentenceTransformer('all-MiniLM-L6-v2')\n",
    "doc_embeddings = embedder.encode(documents, convert_to_numpy=True)\n",
    "index = faiss.IndexFlatL2(doc_embeddings.shape[1])\n",
    "index.add(doc_embeddings)"
   ]
  },
  {
   "cell_type": "code",
   "execution_count": null,
   "id": "4bfd7cc6-b1d2-4667-9faf-2d2e31ced9ca",
   "metadata": {},
   "outputs": [],
   "source": [
    "def retrieve_top_docs(query, k=3):\n",
    "    query_embedding = embedder.encode([query], convert_to_numpy=True)\n",
    "    distances, indices = index.search(query_embedding, k)\n",
    "    return [documents[i] for i in indices[0]]"
   ]
  },
  {
   "cell_type": "code",
   "execution_count": null,
   "id": "bc4a39a8-1d5b-4874-a735-77d9e541d29d",
   "metadata": {},
   "outputs": [],
   "source": [
    "import openai\n",
    "openai.api_key = \"YOUR_OPENAI_API_KEY\" \n",
    "def generate_response(query, context_docs):\n",
    "    context = \"\\n\".join(context_docs)\n",
    "    prompt = f\"\"\"Answer the question based only on the context below.\n",
    "Context:\n",
    "{context}\n",
    "Question: {query}\n",
    "Answer:\"\"\"\n",
    "    response = openai.ChatCompletion.create(\n",
    "        model=\"gpt-3.5-turbo\",\n",
    "        messages=[\n",
    "            {\"role\": \"user\", \"content\": prompt}\n",
    "        ],\n",
    "        temperature=0.2\n",
    "    )\n",
    "    return response['choices'][0]['message']['content']"
   ]
  },
  {
   "cell_type": "code",
   "execution_count": null,
   "id": "a461c0b9-e838-4972-bc77-2ebf241a34a1",
   "metadata": {},
   "outputs": [],
   "source": [
    "while True:\n",
    "    query = input(\"You: \")\n",
    "    if query.lower() in ['exit', 'quit']:\n",
    "        break\n",
    "    top_docs = retrieve_top_docs(query)\n",
    "    answer = generate_response(query, top_docs)\n",
    "    print(\"\\nBot:\", answer)"
   ]
  },
  {
   "cell_type": "code",
   "execution_count": null,
   "id": "2dd54dd1-7267-4041-b75e-82047f221945",
   "metadata": {},
   "outputs": [],
   "source": []
  },
  {
   "cell_type": "code",
   "execution_count": null,
   "id": "5b0dfad9-4e74-47f0-ac52-1c510ef0adb7",
   "metadata": {},
   "outputs": [],
   "source": []
  },
  {
   "cell_type": "code",
   "execution_count": null,
   "id": "cfa669ed-4990-498a-8cbf-0c3cf533cfa3",
   "metadata": {},
   "outputs": [],
   "source": []
  },
  {
   "cell_type": "code",
   "execution_count": null,
   "id": "2a2ae87e-6ecf-4868-95ee-c4fa94d70354",
   "metadata": {},
   "outputs": [],
   "source": []
  },
  {
   "cell_type": "code",
   "execution_count": null,
   "id": "5b86fb0d-b971-4685-b895-5a990b1151c7",
   "metadata": {},
   "outputs": [],
   "source": []
  },
  {
   "cell_type": "code",
   "execution_count": null,
   "id": "38118d23-eabd-44f0-948d-76f8197ffd2e",
   "metadata": {},
   "outputs": [],
   "source": []
  },
  {
   "cell_type": "code",
   "execution_count": null,
   "id": "c299324a-31eb-4e2e-aa72-8ed062482d08",
   "metadata": {},
   "outputs": [],
   "source": []
  }
 ],
 "metadata": {
  "kernelspec": {
   "display_name": "Python 3 (ipykernel)",
   "language": "python",
   "name": "python3"
  },
  "language_info": {
   "codemirror_mode": {
    "name": "ipython",
    "version": 3
   },
   "file_extension": ".py",
   "mimetype": "text/x-python",
   "name": "python",
   "nbconvert_exporter": "python",
   "pygments_lexer": "ipython3",
   "version": "3.12.4"
  }
 },
 "nbformat": 4,
 "nbformat_minor": 5
}
